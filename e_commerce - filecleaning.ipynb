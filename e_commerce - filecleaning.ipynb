{
 "cells": [
  {
   "cell_type": "code",
   "execution_count": 1,
   "id": "d61f8fd3-656e-4f09-8334-40ca5f07abc9",
   "metadata": {},
   "outputs": [],
   "source": [
    "config = {\n",
    "  'user': 'root',\n",
    "  'password': 'root',\n",
    "  'host': 'localhost',\n",
    "  'port': 3306,\n",
    "  'database': 'e_commerce',\n",
    "  'raise_on_warnings': True\n",
    "}"
   ]
  },
  {
   "cell_type": "code",
   "execution_count": 2,
   "id": "a8711fc4-cb62-46e1-89c3-a8b7b7fd934c",
   "metadata": {},
   "outputs": [
    {
     "name": "stdout",
     "output_type": "stream",
     "text": [
      "Requirement already satisfied: mysql-connector-python in c:\\users\\tharp\\anaconda3\\lib\\site-packages (9.3.0)\n"
     ]
    }
   ],
   "source": [
    "!pip install mysql-connector-python"
   ]
  },
  {
   "cell_type": "code",
   "execution_count": 3,
   "id": "9da73dab-050b-45a6-8a20-b05b04c42ad3",
   "metadata": {},
   "outputs": [],
   "source": [
    "# create a MySQL server connection object\n",
    "import mysql.connector\n",
    "mydb = mysql.connector.connect(**config)"
   ]
  },
  {
   "cell_type": "code",
   "execution_count": 4,
   "id": "b82ac77f-2c28-40ec-94d6-58f58e435d41",
   "metadata": {},
   "outputs": [],
   "source": [
    "# cursor object\n",
    "my_cursor = mydb.cursor(dictionary=True)"
   ]
  },
  {
   "cell_type": "code",
   "execution_count": 5,
   "id": "1bc7bdf9-951a-4df7-9981-9ace9dc74ec3",
   "metadata": {},
   "outputs": [],
   "source": [
    "my_cursor.execute(\" SELECT table_name FROM information_schema.tables WHERE table_schema ='e_commerce' \")\n",
    "my_result = my_cursor.fetchall()"
   ]
  },
  {
   "cell_type": "code",
   "execution_count": 6,
   "id": "04c7a380-4372-47ee-b9a5-6d4f841d10c7",
   "metadata": {},
   "outputs": [
    {
     "name": "stdout",
     "output_type": "stream",
     "text": [
      "{'table_name': 'e_commerce'}\n"
     ]
    }
   ],
   "source": [
    "for table in my_result:\n",
    "    print(table)"
   ]
  },
  {
   "cell_type": "code",
   "execution_count": null,
   "id": "1655c59c-a048-4116-b7c7-4aca9e65bd49",
   "metadata": {},
   "outputs": [],
   "source": []
  }
 ],
 "metadata": {
  "kernelspec": {
   "display_name": "Python [conda env:base] *",
   "language": "python",
   "name": "conda-base-py"
  },
  "language_info": {
   "codemirror_mode": {
    "name": "ipython",
    "version": 3
   },
   "file_extension": ".py",
   "mimetype": "text/x-python",
   "name": "python",
   "nbconvert_exporter": "python",
   "pygments_lexer": "ipython3",
   "version": "3.12.7"
  }
 },
 "nbformat": 4,
 "nbformat_minor": 5
}
