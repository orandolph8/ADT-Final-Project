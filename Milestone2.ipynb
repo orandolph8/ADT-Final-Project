{
 "cells": [
  {
   "cell_type": "markdown",
   "id": "098c8c1d-b4cf-442e-9e3d-a8c50b0f6dd9",
   "metadata": {},
   "source": [
    "### Load CSV into Jupyter Notebook\n",
    "\n",
    "In order to create the database without issue, we have to clean some of the data in the csv file.  First, we load and check the csv data"
   ]
  },
  {
   "cell_type": "code",
   "execution_count": 1,
   "id": "05283a02-7418-4dc1-9c64-e9db6863db4a",
   "metadata": {},
   "outputs": [
    {
     "data": {
      "text/html": [
       "<div>\n",
       "<style scoped>\n",
       "    .dataframe tbody tr th:only-of-type {\n",
       "        vertical-align: middle;\n",
       "    }\n",
       "\n",
       "    .dataframe tbody tr th {\n",
       "        vertical-align: top;\n",
       "    }\n",
       "\n",
       "    .dataframe thead th {\n",
       "        text-align: right;\n",
       "    }\n",
       "</style>\n",
       "<table border=\"1\" class=\"dataframe\">\n",
       "  <thead>\n",
       "    <tr style=\"text-align: right;\">\n",
       "      <th></th>\n",
       "      <th>Row ID</th>\n",
       "      <th>Order ID</th>\n",
       "      <th>Order Date</th>\n",
       "      <th>Ship Date</th>\n",
       "      <th>Ship Mode</th>\n",
       "      <th>Customer ID</th>\n",
       "      <th>Customer Name</th>\n",
       "      <th>Segment</th>\n",
       "      <th>Country</th>\n",
       "      <th>City</th>\n",
       "      <th>...</th>\n",
       "      <th>Postal Code</th>\n",
       "      <th>Region</th>\n",
       "      <th>Product ID</th>\n",
       "      <th>Category</th>\n",
       "      <th>Sub-Category</th>\n",
       "      <th>Product Name</th>\n",
       "      <th>Sales</th>\n",
       "      <th>Quantity</th>\n",
       "      <th>Discount</th>\n",
       "      <th>Profit</th>\n",
       "    </tr>\n",
       "  </thead>\n",
       "  <tbody>\n",
       "    <tr>\n",
       "      <th>0</th>\n",
       "      <td>1</td>\n",
       "      <td>CA-2016-152156</td>\n",
       "      <td>2016-11-08</td>\n",
       "      <td>2016-11-11</td>\n",
       "      <td>Second Class</td>\n",
       "      <td>CG-12520</td>\n",
       "      <td>Claire Gute</td>\n",
       "      <td>Consumer</td>\n",
       "      <td>United States</td>\n",
       "      <td>Henderson</td>\n",
       "      <td>...</td>\n",
       "      <td>42420</td>\n",
       "      <td>South</td>\n",
       "      <td>FUR-BO-10001798</td>\n",
       "      <td>Furniture</td>\n",
       "      <td>Bookcases</td>\n",
       "      <td>Bush Somerset Collection Bookcase</td>\n",
       "      <td>261.9600</td>\n",
       "      <td>2</td>\n",
       "      <td>0.00</td>\n",
       "      <td>41.9136</td>\n",
       "    </tr>\n",
       "    <tr>\n",
       "      <th>1</th>\n",
       "      <td>2</td>\n",
       "      <td>CA-2016-152156</td>\n",
       "      <td>2016-11-08</td>\n",
       "      <td>2016-11-11</td>\n",
       "      <td>Second Class</td>\n",
       "      <td>CG-12520</td>\n",
       "      <td>Claire Gute</td>\n",
       "      <td>Consumer</td>\n",
       "      <td>United States</td>\n",
       "      <td>Henderson</td>\n",
       "      <td>...</td>\n",
       "      <td>42420</td>\n",
       "      <td>South</td>\n",
       "      <td>FUR-CH-10000454</td>\n",
       "      <td>Furniture</td>\n",
       "      <td>Chairs</td>\n",
       "      <td>Hon Deluxe Fabric Upholstered Stacking Chairs,...</td>\n",
       "      <td>731.9400</td>\n",
       "      <td>3</td>\n",
       "      <td>0.00</td>\n",
       "      <td>219.5820</td>\n",
       "    </tr>\n",
       "    <tr>\n",
       "      <th>2</th>\n",
       "      <td>3</td>\n",
       "      <td>CA-2016-138688</td>\n",
       "      <td>2016-06-12</td>\n",
       "      <td>2016-06-16</td>\n",
       "      <td>Second Class</td>\n",
       "      <td>DV-13045</td>\n",
       "      <td>Darrin Van Huff</td>\n",
       "      <td>Corporate</td>\n",
       "      <td>United States</td>\n",
       "      <td>Los Angeles</td>\n",
       "      <td>...</td>\n",
       "      <td>90036</td>\n",
       "      <td>West</td>\n",
       "      <td>OFF-LA-10000240</td>\n",
       "      <td>Office Supplies</td>\n",
       "      <td>Labels</td>\n",
       "      <td>Self-Adhesive Address Labels for Typewriters b...</td>\n",
       "      <td>14.6200</td>\n",
       "      <td>2</td>\n",
       "      <td>0.00</td>\n",
       "      <td>6.8714</td>\n",
       "    </tr>\n",
       "    <tr>\n",
       "      <th>3</th>\n",
       "      <td>4</td>\n",
       "      <td>US-2015-108966</td>\n",
       "      <td>2015-10-11</td>\n",
       "      <td>2015-10-18</td>\n",
       "      <td>Standard Class</td>\n",
       "      <td>SO-20335</td>\n",
       "      <td>Sean O'Donnell</td>\n",
       "      <td>Consumer</td>\n",
       "      <td>United States</td>\n",
       "      <td>Fort Lauderdale</td>\n",
       "      <td>...</td>\n",
       "      <td>33311</td>\n",
       "      <td>South</td>\n",
       "      <td>FUR-TA-10000577</td>\n",
       "      <td>Furniture</td>\n",
       "      <td>Tables</td>\n",
       "      <td>Bretford CR4500 Series Slim Rectangular Table</td>\n",
       "      <td>957.5775</td>\n",
       "      <td>5</td>\n",
       "      <td>0.45</td>\n",
       "      <td>-383.0310</td>\n",
       "    </tr>\n",
       "    <tr>\n",
       "      <th>4</th>\n",
       "      <td>5</td>\n",
       "      <td>US-2015-108966</td>\n",
       "      <td>2015-10-11</td>\n",
       "      <td>2015-10-18</td>\n",
       "      <td>Standard Class</td>\n",
       "      <td>SO-20335</td>\n",
       "      <td>Sean O'Donnell</td>\n",
       "      <td>Consumer</td>\n",
       "      <td>United States</td>\n",
       "      <td>Fort Lauderdale</td>\n",
       "      <td>...</td>\n",
       "      <td>33311</td>\n",
       "      <td>South</td>\n",
       "      <td>OFF-ST-10000760</td>\n",
       "      <td>Office Supplies</td>\n",
       "      <td>Storage</td>\n",
       "      <td>Eldon Fold 'N Roll Cart System</td>\n",
       "      <td>22.3680</td>\n",
       "      <td>2</td>\n",
       "      <td>0.20</td>\n",
       "      <td>2.5164</td>\n",
       "    </tr>\n",
       "  </tbody>\n",
       "</table>\n",
       "<p>5 rows × 21 columns</p>\n",
       "</div>"
      ],
      "text/plain": [
       "   Row ID        Order ID  Order Date   Ship Date       Ship Mode Customer ID  \\\n",
       "0       1  CA-2016-152156  2016-11-08  2016-11-11    Second Class    CG-12520   \n",
       "1       2  CA-2016-152156  2016-11-08  2016-11-11    Second Class    CG-12520   \n",
       "2       3  CA-2016-138688  2016-06-12  2016-06-16    Second Class    DV-13045   \n",
       "3       4  US-2015-108966  2015-10-11  2015-10-18  Standard Class    SO-20335   \n",
       "4       5  US-2015-108966  2015-10-11  2015-10-18  Standard Class    SO-20335   \n",
       "\n",
       "     Customer Name    Segment        Country             City  ...  \\\n",
       "0      Claire Gute   Consumer  United States        Henderson  ...   \n",
       "1      Claire Gute   Consumer  United States        Henderson  ...   \n",
       "2  Darrin Van Huff  Corporate  United States      Los Angeles  ...   \n",
       "3   Sean O'Donnell   Consumer  United States  Fort Lauderdale  ...   \n",
       "4   Sean O'Donnell   Consumer  United States  Fort Lauderdale  ...   \n",
       "\n",
       "  Postal Code  Region       Product ID         Category Sub-Category  \\\n",
       "0       42420   South  FUR-BO-10001798        Furniture    Bookcases   \n",
       "1       42420   South  FUR-CH-10000454        Furniture       Chairs   \n",
       "2       90036    West  OFF-LA-10000240  Office Supplies       Labels   \n",
       "3       33311   South  FUR-TA-10000577        Furniture       Tables   \n",
       "4       33311   South  OFF-ST-10000760  Office Supplies      Storage   \n",
       "\n",
       "                                        Product Name     Sales  Quantity  \\\n",
       "0                  Bush Somerset Collection Bookcase  261.9600         2   \n",
       "1  Hon Deluxe Fabric Upholstered Stacking Chairs,...  731.9400         3   \n",
       "2  Self-Adhesive Address Labels for Typewriters b...   14.6200         2   \n",
       "3      Bretford CR4500 Series Slim Rectangular Table  957.5775         5   \n",
       "4                     Eldon Fold 'N Roll Cart System   22.3680         2   \n",
       "\n",
       "   Discount    Profit  \n",
       "0      0.00   41.9136  \n",
       "1      0.00  219.5820  \n",
       "2      0.00    6.8714  \n",
       "3      0.45 -383.0310  \n",
       "4      0.20    2.5164  \n",
       "\n",
       "[5 rows x 21 columns]"
      ]
     },
     "execution_count": 1,
     "metadata": {},
     "output_type": "execute_result"
    }
   ],
   "source": [
    "\n",
    "import pandas as pd\n",
    "\n",
    "df = pd.read_csv(\"e_commerce_dataset.csv\", encoding='ISO-8859-1')\n",
    "\n",
    "df.head()"
   ]
  },
  {
   "cell_type": "markdown",
   "id": "2b9abe62-480b-41c7-b207-db688d8129e1",
   "metadata": {},
   "source": [
    "### Clean Data"
   ]
  },
  {
   "cell_type": "code",
   "execution_count": 2,
   "id": "82a48f86-8c85-47ba-85fc-bc21662a0f59",
   "metadata": {},
   "outputs": [
    {
     "name": "stdout",
     "output_type": "stream",
     "text": [
      "['Row ID', 'Order ID', 'Order Date', 'Ship Date', 'Ship Mode', 'Customer ID', 'Customer Name', 'Segment', 'Country', 'City', 'State', 'Postal Code', 'Region', 'Product ID', 'Category', 'Sub-Category', 'Product Name', 'Sales', 'Quantity', 'Discount', 'Profit']\n"
     ]
    }
   ],
   "source": [
    "print(df.columns.tolist())"
   ]
  },
  {
   "cell_type": "markdown",
   "id": "c858e468-e462-4c92-85a4-d2e9308466a7",
   "metadata": {},
   "source": [
    "We want to strip all of the dollar amounts of their dollar signs, as was the format in the excel file\n",
    "\n",
    "Format dates to YYYY-MM-DD for MySQL\n",
    "\n",
    "Ensure that the zip code is clean 5-digit number.  Some of the zip codes "
   ]
  },
  {
   "cell_type": "code",
   "execution_count": 3,
   "id": "3b254ca3-9000-4702-9549-e8c4cf1a21c1",
   "metadata": {},
   "outputs": [],
   "source": [
    "# Strip special chars from numeric columns\n",
    "cols_to_clean = ['Sales', 'Profit', 'Discount']\n",
    "for col in cols_to_clean:\n",
    "    df[col] = df[col].astype(str).str.replace(r'[^0-9.\\-]', '', regex=True).astype(float)\n",
    "    df[col] = df[col].round(2)\n",
    "# Format dates\n",
    "df['Order Date'] = pd.to_datetime(df['Order Date']).dt.strftime('%Y-%m-%d')\n",
    "df['Ship Date'] = pd.to_datetime(df['Ship Date']).dt.strftime('%Y-%m-%d')\n",
    "\n",
    "# Clean postal code\n",
    "df['Postal Code'] = df['Postal Code'].astype(str).str.zfill(5)"
   ]
  },
  {
   "cell_type": "code",
   "execution_count": 4,
   "id": "8a988429-a1d0-4e51-afd1-aeb0b0efa080",
   "metadata": {},
   "outputs": [],
   "source": [
    "df.to_csv('cleaned_ecommerce.csv', index=False)"
   ]
  },
  {
   "cell_type": "markdown",
   "id": "f2974705-ab6f-4277-9a63-2b5ce9c2a37c",
   "metadata": {},
   "source": [
    "### Make a Connection and Load Cleaned Data into MySQL Workbench"
   ]
  },
  {
   "cell_type": "code",
   "execution_count": 5,
   "id": "e06b5099-2781-44e5-a857-1718a40ef4f6",
   "metadata": {},
   "outputs": [
    {
     "name": "stdout",
     "output_type": "stream",
     "text": [
      "Defaulting to user installation because normal site-packages is not writeable\n",
      "Requirement already satisfied: mysql-connector-python in c:\\users\\orand\\appdata\\local\\packages\\pythonsoftwarefoundation.python.3.12_qbz5n2kfra8p0\\localcache\\local-packages\\python312\\site-packages (9.3.0)\n"
     ]
    },
    {
     "name": "stderr",
     "output_type": "stream",
     "text": [
      "\n",
      "[notice] A new release of pip is available: 24.3.1 -> 25.1.1\n",
      "[notice] To update, run: C:\\Users\\orand\\AppData\\Local\\Microsoft\\WindowsApps\\PythonSoftwareFoundation.Python.3.12_qbz5n2kfra8p0\\python.exe -m pip install --upgrade pip\n"
     ]
    }
   ],
   "source": [
    "!pip install mysql-connector-python"
   ]
  },
  {
   "cell_type": "code",
   "execution_count": 6,
   "id": "afbdfe0f-1938-4cd1-ad56-e06a820e7694",
   "metadata": {},
   "outputs": [],
   "source": [
    "# Connect to MySQL Workbench\n",
    "import mysql.connector\n",
    "\n",
    "config = {\n",
    "    'user': 'root',\n",
    "    'password': 'root',\n",
    "    'host': '127.0.0.1',\n",
    "    'port': 3306,\n",
    "    'database': 'ecommerce',\n",
    "    'raise_on_warnings': True\n",
    "}\n",
    "\n",
    "mydb = mysql.connector.connect(**config)\n",
    "my_cursor = mydb.cursor()"
   ]
  },
  {
   "cell_type": "code",
   "execution_count": 7,
   "id": "06d75626-0bc3-421b-86f4-62888be48f12",
   "metadata": {},
   "outputs": [],
   "source": [
    "df = pd.read_csv('cleaned_ecommerce.csv')"
   ]
  },
  {
   "cell_type": "code",
   "execution_count": 8,
   "id": "780a86ff-3a69-43cc-b790-f73f0f29e1cd",
   "metadata": {},
   "outputs": [],
   "source": [
    "insert_query = \"\"\"\n",
    "INSERT INTO ecommerce (\n",
    "    Order_ID, Order_Date, Ship_Date, Ship_Mode, Customer_ID, Customer_Name,\n",
    "    Segment, Country, City, State, Postal_Code, Region, Product_ID, Category,\n",
    "    SubCategory, Product_Name, Sales, Quantity, Discount, Profit\n",
    ") VALUES (\n",
    "    %s, %s, %s, %s, %s, %s, %s, %s, %s, %s, %s, %s, %s, %s, %s, %s, %s, %s, %s, %s\n",
    ")\n",
    "\"\"\""
   ]
  },
  {
   "cell_type": "code",
   "execution_count": 9,
   "id": "45bf1826-7b64-4c2d-b65b-5d795cd68c1d",
   "metadata": {},
   "outputs": [],
   "source": [
    "data = df.iloc[:, 1:].values.tolist()  # Skip 'Row ID' column"
   ]
  },
  {
   "cell_type": "markdown",
   "id": "00cd2497-86cc-4c1b-b9ac-978b1e99b254",
   "metadata": {},
   "source": [
    "One of the issues we found when trying to load data was that the size of the csv was too big to be loaded all at once, so we break it into smaller chunks"
   ]
  },
  {
   "cell_type": "code",
   "execution_count": 10,
   "id": "8f6584e9-28ca-4dba-93b6-88426654cac2",
   "metadata": {},
   "outputs": [
    {
     "name": "stdout",
     "output_type": "stream",
     "text": [
      "Data successfully inserted into ecommerce table.\n"
     ]
    }
   ],
   "source": [
    "chunk_size = 1000\n",
    "for start in range(0, len(data), chunk_size):\n",
    "    end = start + chunk_size\n",
    "    chunk = data[start:end]\n",
    "    my_cursor.executemany(insert_query, chunk)\n",
    "    mydb.commit()\n",
    "\n",
    "print(\"Data successfully inserted into ecommerce table.\")"
   ]
  },
  {
   "cell_type": "code",
   "execution_count": 11,
   "id": "03af5352-9c95-48e1-bd16-5d5bfc96448f",
   "metadata": {},
   "outputs": [
    {
     "name": "stdout",
     "output_type": "stream",
     "text": [
      "9994\n"
     ]
    }
   ],
   "source": [
    "# check to make sure no duplicate values were added to the database in MySQL Workbench\n",
    "print(len(df)) "
   ]
  },
  {
   "cell_type": "code",
   "execution_count": 13,
   "id": "7d060398-bdba-4b04-8b97-33387ee97ef4",
   "metadata": {},
   "outputs": [
    {
     "name": "stdout",
     "output_type": "stream",
     "text": [
      "9994\n"
     ]
    }
   ],
   "source": [
    "# Check number of rows in the ecommerce database.  Should match with the length of the dataframe\n",
    "my_cursor.execute(\"SELECT COUNT(*) FROM ecommerce;\")\n",
    "row_count = my_cursor.fetchone()[0]\n",
    "print(row_count)"
   ]
  },
  {
   "cell_type": "code",
   "execution_count": 20,
   "id": "b3fddc3d-7dd6-46e1-a8eb-d96411ad18e2",
   "metadata": {},
   "outputs": [
    {
     "name": "stdout",
     "output_type": "stream",
     "text": [
      "('FUR-BO-10001798',)\n",
      "('FUR-CH-10000454',)\n",
      "('OFF-LA-10000240',)\n",
      "('FUR-TA-10000577',)\n",
      "('OFF-ST-10000760',)\n"
     ]
    }
   ],
   "source": [
    "# Sample Query \n",
    "# Clear any unread result sets\n",
    "while my_cursor.nextset():\n",
    "    pass\n",
    "\n",
    "# Sample query\n",
    "sql_query = \"SELECT Product_ID FROM ecommerce LIMIT 5\"\n",
    "my_cursor.execute(sql_query)\n",
    "rows = my_cursor.fetchall()\n",
    "\n",
    "#Print as text\n",
    "for row in rows:\n",
    "    print(row)"
   ]
  },
  {
   "cell_type": "markdown",
   "id": "f160e5f8-61bf-4ee1-abae-184a2021d5de",
   "metadata": {},
   "source": [
    "### Checking for 1NF Normalization"
   ]
  },
  {
   "cell_type": "code",
   "execution_count": 21,
   "id": "25c7f3f9-f539-4b2a-95af-02fc5d46d541",
   "metadata": {},
   "outputs": [
    {
     "name": "stdout",
     "output_type": "stream",
     "text": [
      "Non-atomic value found in column 'Product_Name': Hon Deluxe Fabric Upholstered Stacking Chairs, Rounded Back\n"
     ]
    }
   ],
   "source": [
    "# Check for atomicity\n",
    "# Re-query a sample\n",
    "my_cursor.execute(\"SELECT * FROM ecommerce\")\n",
    "rows = my_cursor.fetchall()\n",
    "columns = [col[0] for col in my_cursor.description]\n",
    "\n",
    "# Check for potential non-atomic values (like commas or semicolons)\n",
    "for col_idx, col_name in enumerate(columns):\n",
    "    for row in rows:\n",
    "        val = str(row[col_idx])\n",
    "        if ',' in val or ';' in val:\n",
    "            print(f\"Non-atomic value found in column '{col_name}': {val}\")\n",
    "            break"
   ]
  },
  {
   "cell_type": "markdown",
   "id": "d726ca48-d930-4325-90ac-4c3a052a15a5",
   "metadata": {},
   "source": [
    "Only one value was found, and in this case, it's still atomic because the comma is just part of the description, not a separate item."
   ]
  },
  {
   "cell_type": "code",
   "execution_count": 27,
   "id": "8d528f6a-9f5f-4a11-809f-0d7166a01c05",
   "metadata": {},
   "outputs": [
    {
     "name": "stdout",
     "output_type": "stream",
     "text": [
      "No duplicate rows found.\n"
     ]
    }
   ],
   "source": [
    "# Check for duplicate rows\n",
    "from collections import Counter\n",
    "\n",
    "duplicates = [item for item, count in Counter(rows).items() if count > 1]\n",
    "if duplicates:\n",
    "    print(f\"Found {len(duplicates)} duplicate row(s).\")\n",
    "else:\n",
    "    print(\"No duplicate rows found.\")"
   ]
  },
  {
   "cell_type": "code",
   "execution_count": 26,
   "id": "c4136146-958b-418d-9653-dedfc0d3c117",
   "metadata": {},
   "outputs": [
    {
     "name": "stdout",
     "output_type": "stream",
     "text": [
      "All columns have consistent data types.\n"
     ]
    }
   ],
   "source": [
    "# Check for column value consistency\n",
    "import collections\n",
    "\n",
    "# Check column data types for first 100 rows\n",
    "type_check = collections.defaultdict(set)\n",
    "for row in rows[:100]:\n",
    "    for idx, val in enumerate(row):\n",
    "        type_check[columns[idx]].add(type(val).__name__)\n",
    "\n",
    "# Only show columns with mixed types\n",
    "mixed = {col: types for col, types in type_check.items() if len(types) > 1}\n",
    "\n",
    "if mixed:\n",
    "    print(\"Columns with mixed types detected:\")\n",
    "    for col, types in mixed.items():\n",
    "        print(f\"  - {col}: {types}\")\n",
    "else:\n",
    "    print(\"All columns have consistent data types.\")"
   ]
  },
  {
   "cell_type": "code",
   "execution_count": null,
   "id": "ee697976-8e27-41bf-a83b-63af195b6a99",
   "metadata": {},
   "outputs": [],
   "source": []
  }
 ],
 "metadata": {
  "kernelspec": {
   "display_name": "Python (ADT)",
   "language": "python",
   "name": "adt"
  },
  "language_info": {
   "codemirror_mode": {
    "name": "ipython",
    "version": 3
   },
   "file_extension": ".py",
   "mimetype": "text/x-python",
   "name": "python",
   "nbconvert_exporter": "python",
   "pygments_lexer": "ipython3",
   "version": "3.11.11"
  }
 },
 "nbformat": 4,
 "nbformat_minor": 5
}
